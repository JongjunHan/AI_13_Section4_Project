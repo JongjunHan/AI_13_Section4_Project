{
  "nbformat": 4,
  "nbformat_minor": 0,
  "metadata": {
    "colab": {
      "name": "ocr.ipynb",
      "private_outputs": true,
      "provenance": [],
      "machine_shape": "hm",
      "collapsed_sections": []
    },
    "kernelspec": {
      "name": "python3",
      "display_name": "Python 3"
    },
    "language_info": {
      "name": "python"
    },
    "accelerator": "GPU",
    "gpuClass": "standard"
  },
  "cells": [
    {
      "cell_type": "code",
      "source": [
        "!pip install imutils"
      ],
      "metadata": {
        "id": "ZNxsxlDZvAzE"
      },
      "execution_count": null,
      "outputs": []
    },
    {
      "cell_type": "code",
      "execution_count": null,
      "metadata": {
        "id": "lOdji6PmYfD2"
      },
      "outputs": [],
      "source": [
        "from google.colab import drive\n",
        "drive.mount('/content/drive')"
      ]
    },
    {
      "cell_type": "code",
      "source": [
        "!unzip -qq '/content/drive/MyDrive/HandWritten_Character.zip'"
      ],
      "metadata": {
        "id": "b5Kpwajb1AE6"
      },
      "execution_count": null,
      "outputs": []
    },
    {
      "cell_type": "code",
      "source": [
        "import numpy as np\n",
        "import pandas as pd\n",
        "from keras.preprocessing.image import ImageDataGenerator\n",
        "import os\n",
        "import random \n",
        "import cv2\n",
        "import imutils\n",
        "import random\n",
        "import matplotlib.pyplot as plt\n",
        "import seaborn as sns\n",
        "from sklearn.preprocessing import LabelBinarizer\n",
        "from keras.utils import np_utils\n",
        "from keras.models import Sequential\n",
        "from keras import optimizers\n",
        "from sklearn.preprocessing import LabelBinarizer\n",
        "from keras import backend as K\n",
        "from keras.layers import Dense, Activation, Flatten, Dense,MaxPooling2D, Dropout\n",
        "from keras.layers import Conv2D, MaxPooling2D, BatchNormalization\n",
        "from tensorflow import keras"
      ],
      "metadata": {
        "id": "iNddU8Iquu47"
      },
      "execution_count": null,
      "outputs": []
    },
    {
      "cell_type": "code",
      "source": [
        "file_path1 = '/content/Train'\n",
        "\n",
        "train = []\n",
        "img_size = 32\n",
        "non_chars = ['#', '$', '&', '@']\n",
        "\n",
        "for i in os.listdir(file_path1):\n",
        "  if i in non_chars:\n",
        "        continue\n",
        "  count = 0\n",
        "  sub_directory = os.path.join(file_path1, i)\n",
        "  \n",
        "  for j in os.listdir(sub_directory):\n",
        "    count+=1\n",
        "\n",
        "    if count > 4000:\n",
        "      break\n",
        "    \n",
        "    img = cv2.imread(os.path.join(sub_directory, j),0)\n",
        "    img = cv2.resize(img,(img_size, img_size))\n",
        "    train.append([img, i])\n",
        "\n",
        "len(train)"
      ],
      "metadata": {
        "id": "Lwx1JafXvMs0"
      },
      "execution_count": null,
      "outputs": []
    },
    {
      "cell_type": "code",
      "source": [
        "file_path2 = '/content/Validation'\n",
        "\n",
        "test = []\n",
        "img_size = 32\n",
        "\n",
        "for i in os.listdir(file_path2):\n",
        "  if i in non_chars:\n",
        "        continue\n",
        "  count = 0\n",
        "  sub_directory1 = os.path.join(file_path2, i)\n",
        "  \n",
        "  for j in os.listdir(sub_directory1):\n",
        "    count+=1\n",
        "\n",
        "    if count > 1000:\n",
        "      break\n",
        "\n",
        "    img1 = cv2.imread(os.path.join(sub_directory1, j),0)\n",
        "    img1 = cv2.resize(img1,(img_size, img_size))\n",
        "    test.append([img1, i])\n",
        "\n",
        "len(test)"
      ],
      "metadata": {
        "id": "SiTjPPIKt8Oc"
      },
      "execution_count": null,
      "outputs": []
    },
    {
      "cell_type": "code",
      "source": [
        "random.shuffle(train)\n",
        "random.shuffle(test)"
      ],
      "metadata": {
        "id": "OhQgF9gKxoUv"
      },
      "execution_count": null,
      "outputs": []
    },
    {
      "cell_type": "code",
      "source": [
        "X_train = []\n",
        "y_train = []\n",
        "\n",
        "for features, label in train:\n",
        "    X_train.append(features)\n",
        "    y_train.append(label)\n",
        "\n",
        "X_test = []\n",
        "y_test = []\n",
        "\n",
        "for features, label in test:\n",
        "    X_test.append(features)\n",
        "    y_test.append(label)"
      ],
      "metadata": {
        "id": "s3PEc9_9xrMo"
      },
      "execution_count": null,
      "outputs": []
    },
    {
      "cell_type": "code",
      "source": [
        "lbb = LabelBinarizer() # 라벨을 일 대 다 형식으로 이진화 한다 / 이는 라벨당 라벨인지 아닌지에 대한 이진분류와 비슷한 개념으로 설명된다\n",
        "\n",
        "y_train = lbb.fit_transform(y_train)\n",
        "y_test = lbb.fit_transform(y_test)"
      ],
      "metadata": {
        "id": "l2FoXg5CyDiU"
      },
      "execution_count": null,
      "outputs": []
    },
    {
      "cell_type": "code",
      "source": [
        "X_train = np.array(X_train) / 255.0\n",
        "X_train = X_train.reshape(-1, 32, 32, 1)\n",
        "y_train = np.array(y_train)\n",
        "\n",
        "X_test = np.array(X_test) / 255.0\n",
        "X_test = X_test.reshape(-1, 32, 32, 1)\n",
        "y_test = np.array(y_test)\n",
        "\n",
        "print(X_train.shape, X_test.shape, y_train.shape, y_test.shape)"
      ],
      "metadata": {
        "id": "U6KpUWsVyTB4"
      },
      "execution_count": null,
      "outputs": []
    },
    {
      "cell_type": "code",
      "source": [
        "model = Sequential()\n",
        "model.add(Conv2D(32, 3, padding = 'same', activation = 'relu', input_shape = (32, 32, 1)))\n",
        "model.add(MaxPooling2D(pool_size = (2,2)))\n",
        "model.add(Conv2D(64, 3, activation = 'relu'))\n",
        "model.add(MaxPooling2D(pool_size = (2,2)))\n",
        "model.add(Conv2D(128, 3, activation = 'relu'))\n",
        "model.add(MaxPooling2D(pool_size = (2,2)))\n",
        "model.add(Dropout(0.4)) \n",
        "model.add(Flatten())\n",
        "model.add(Dense(128, activation = 'relu'))\n",
        "model.add(Dropout(0.4))\n",
        "model.add(Dense(35, activation = 'softmax'))"
      ],
      "metadata": {
        "id": "j2rtPJ0Uynpn"
      },
      "execution_count": null,
      "outputs": []
    },
    {
      "cell_type": "code",
      "source": [
        "model.summary()"
      ],
      "metadata": {
        "id": "tX1S2CQHzPhC"
      },
      "execution_count": null,
      "outputs": []
    },
    {
      "cell_type": "code",
      "source": [
        "keras.utils.plot_model(model, show_shapes = True)"
      ],
      "metadata": {
        "id": "AjPPuvgDzWb2"
      },
      "execution_count": null,
      "outputs": []
    },
    {
      "cell_type": "code",
      "source": [
        "model.compile(loss = 'categorical_crossentropy', optimizer = \"adam\", metrics = ['accuracy'])"
      ],
      "metadata": {
        "id": "9vJyRaq5zl7K"
      },
      "execution_count": null,
      "outputs": []
    },
    {
      "cell_type": "code",
      "source": [
        "line = model.fit(X_train, y_train, epochs = 30, batch_size = 32, validation_data = (X_test, y_test), verbose = 1)"
      ],
      "metadata": {
        "id": "T_dbDDP4ztxj"
      },
      "execution_count": null,
      "outputs": []
    },
    {
      "cell_type": "code",
      "source": [
        "plt.plot(line.history['accuracy'])\n",
        "plt.plot(line.history['val_accuracy'])\n",
        "plt.title('Training Accuracy vs Val Accuracy')\n",
        "plt.ylabel('Accuracy')\n",
        "plt.xlabel('Epoch')\n",
        "plt.legend(['Train', 'Test'], loc = 'upper left')\n",
        "plt.show()"
      ],
      "metadata": {
        "id": "RhIIk96x0ES-"
      },
      "execution_count": null,
      "outputs": []
    },
    {
      "cell_type": "markdown",
      "source": [
        "에포크를 5 ~ 10 사이에서 끊어도 성능에는 큰 변화가 없다는 것을 알 수 있다"
      ],
      "metadata": {
        "id": "sbiGFJ8v9U0o"
      }
    },
    {
      "cell_type": "code",
      "source": [
        "def sort_contours(cnts, method = 'left-to-right'):\n",
        "  \n",
        "  reverse = False\n",
        "  \n",
        "  i = 0\n",
        "    \n",
        "  if method == 'right-to-left' or method == 'bottom-to-top':\n",
        "      reverse = True\n",
        "    \n",
        "  if method == 'top-to-bottom' or method == 'bottom-to-top':\n",
        "      i = 1\n",
        "    \n",
        "  boundingBoxes = [cv2.boundingRect(c) for c in cnts]\n",
        "  (cnts, boundingBoxes) = zip(*sorted(zip(cnts, boundingBoxes),\n",
        "  key=lambda b:b[1][i], reverse=reverse))\n",
        "\n",
        "  return (cnts, boundingBoxes)\n",
        "\n",
        "def get_letters(img):\n",
        "    \n",
        "  letters = []\n",
        "  image = cv2.imread(img)\n",
        "  gray = cv2.cvtColor(image, cv2.COLOR_BGR2GRAY)\n",
        "  ret, thresh1 = cv2.threshold(gray, 127, 255, cv2.THRESH_BINARY_INV)\n",
        "  dilated = cv2.dilate(thresh1, None, iterations = 2)\n",
        "\n",
        "  cnts = cv2.findContours(dilated.copy(), cv2.RETR_EXTERNAL, cv2.CHAIN_APPROX_SIMPLE)\n",
        "  cnts = imutils.grab_contours(cnts)\n",
        "  cnts = sort_contours(cnts, method = 'left-to-right')[0]\n",
        "\n",
        "  for c in cnts:\n",
        "    \n",
        "    if cv2.contourArea(c) > 10:\n",
        "      (x, y, w, h) = cv2.boundingRect(c)\n",
        "      cv2.rectangle(image, (x, y), (x + w, y + h), (0, 255, 0), 2)\n",
        "      \n",
        "    roi = gray[y : y + h, x : x + w]\n",
        "    thresh = cv2.threshold(roi, 0, 255, cv2.THRESH_BINARY_INV | cv2.THRESH_OTSU)[1]\n",
        "    thresh = cv2.resize(thresh, (32, 32), interpolation = cv2.INTER_CUBIC)\n",
        "    thresh = thresh.astype('float32') / 255.0\n",
        "    thresh = np.expand_dims(thresh, axis = -1)\n",
        "    thresh = thresh.reshape(1, 32, 32, 1)\n",
        "    ypred = model.predict(thresh)\n",
        "    ypred = lbb.inverse_transform(ypred)\n",
        "    [x] = ypred\n",
        "    letters.append(x)\n",
        "\n",
        "  return letters, image\n",
        "\n",
        "def get_word(letter):\n",
        "  \n",
        "  word = ''.join(letter)\n",
        "  \n",
        "  return word"
      ],
      "metadata": {
        "id": "w1aXEwXQ5Kgg"
      },
      "execution_count": null,
      "outputs": []
    },
    {
      "cell_type": "code",
      "source": [
        "from google.colab import files\n",
        "uploaded = files.upload()"
      ],
      "metadata": {
        "id": "5UXNT8Xb8lp7"
      },
      "execution_count": null,
      "outputs": []
    },
    {
      "cell_type": "code",
      "source": [
        "letter,image = get_letters('TEST_0193.jpg')\n",
        "word = get_word(letter)\n",
        "\n",
        "print(word)\n",
        "plt.imshow(image)"
      ],
      "metadata": {
        "id": "2H15ecfI6nG2"
      },
      "execution_count": null,
      "outputs": []
    },
    {
      "cell_type": "code",
      "source": [
        "import joblib\n",
        "\n",
        "joblib.dump(model, \"ocr.pkl\")"
      ],
      "metadata": {
        "id": "4t2V8EO8MPa4"
      },
      "execution_count": null,
      "outputs": []
    }
  ]
}